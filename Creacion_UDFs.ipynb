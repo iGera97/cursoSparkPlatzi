{
 "cells": [
  {
   "cell_type": "code",
   "execution_count": null,
   "id": "1725ca64",
   "metadata": {},
   "outputs": [],
   "source": [
    "! pwd"
   ]
  },
  {
   "cell_type": "code",
   "execution_count": null,
   "id": "b4e4fb91",
   "metadata": {
    "scrolled": true
   },
   "outputs": [],
   "source": [
    "! head -n 5 curso-apache-spark-platzi/files/deportistaError.csv"
   ]
  },
  {
   "cell_type": "code",
   "execution_count": null,
   "id": "34eacb2d",
   "metadata": {},
   "outputs": [],
   "source": [
    "from pyspark.sql import SparkSession\n",
    "\n",
    "from pyspark.sql.types import StructType, StructField, IntegerType,StringType,FloatType"
   ]
  },
  {
   "cell_type": "code",
   "execution_count": null,
   "id": "e9565953",
   "metadata": {},
   "outputs": [],
   "source": [
    "spark = SparkSession.builder.appName(\"UDFs\").master(\"local\").getOrCreate()"
   ]
  },
  {
   "cell_type": "code",
   "execution_count": null,
   "id": "1bec242a",
   "metadata": {},
   "outputs": [],
   "source": [
    "path = \"/home/gerardo/proyectos_PLATZI/Curso_Spark/curso-apache-spark-platzi/files/\"\n",
    "deportista_error_schema = StructType([\n",
    " StructField(\"deportista_id\",IntegerType(),False),\n",
    "    StructField(\"nombre\",StringType(),False),\n",
    "    StructField(\"genero\",IntegerType(),False),\n",
    "    StructField(\"edad\",IntegerType(),False),\n",
    "    StructField(\"altura\",IntegerType(),False),\n",
    "    StructField(\"peso\",FloatType(),False),\n",
    "    StructField(\"equipo_id\",IntegerType(),False)\n",
    "])\n",
    "deportista_error_df = spark.read.schema(deportista_error_schema) \\\n",
    "                .csv(path + \"deportistaError.csv\",header=True)"
   ]
  },
  {
   "cell_type": "code",
   "execution_count": null,
   "id": "00a0d3b2",
   "metadata": {},
   "outputs": [],
   "source": [
    "deportista_error_df.show(5)"
   ]
  },
  {
   "cell_type": "code",
   "execution_count": null,
   "id": "f147d93d",
   "metadata": {},
   "outputs": [],
   "source": [
    "from pyspark.sql.functions import udf\n",
    "#CREO MI FUNCIÓN PERSONALIZADA\n",
    "def select_gen(s):\n",
    "    return \"MALE\" if s == 1 else \"FEMALE\""
   ]
  },
  {
   "cell_type": "code",
   "execution_count": null,
   "id": "1d33bde7",
   "metadata": {},
   "outputs": [],
   "source": [
    "#LA VUELVO UN UDF PARA USARLA CON DATAFRAMES Y LA REGISTRO PARA USARLA COMO SQL\n",
    "select_gen_udf = udf(select_gen,StringType())\n",
    "spark.udf.register(\"select_gen_udf\",select_gen_udf)"
   ]
  },
  {
   "cell_type": "code",
   "execution_count": null,
   "id": "146c784a",
   "metadata": {
    "scrolled": true
   },
   "outputs": [],
   "source": [
    "deportista_error_df.select(\"nombre\",select_gen_udf(\"genero\").alias(\"Genero\")).show(5)"
   ]
  },
  {
   "cell_type": "code",
   "execution_count": null,
   "id": "f077b384",
   "metadata": {},
   "outputs": [],
   "source": [
    "deportista_error_df.createOrReplaceTempView(\"deportista_error\")"
   ]
  },
  {
   "cell_type": "code",
   "execution_count": null,
   "id": "db1ecea5",
   "metadata": {},
   "outputs": [],
   "source": [
    "spark.sql(\"SELECT nombre,select_gen_udf(genero) AS GENERO FROM deportista_error\").show(5)"
   ]
  },
  {
   "cell_type": "code",
   "execution_count": null,
   "id": "b63f66f6",
   "metadata": {},
   "outputs": [],
   "source": []
  }
 ],
 "metadata": {
  "kernelspec": {
   "display_name": "Python 3 (ipykernel)",
   "language": "python",
   "name": "python3"
  },
  "language_info": {
   "codemirror_mode": {
    "name": "ipython",
    "version": 3
   },
   "file_extension": ".py",
   "mimetype": "text/x-python",
   "name": "python",
   "nbconvert_exporter": "python",
   "pygments_lexer": "ipython3",
   "version": "3.9.12"
  }
 },
 "nbformat": 4,
 "nbformat_minor": 5
}
