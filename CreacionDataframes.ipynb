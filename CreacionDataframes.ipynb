{
 "cells": [
  {
   "cell_type": "code",
   "execution_count": null,
   "id": "da5a1d98",
   "metadata": {},
   "outputs": [],
   "source": [
    "from pyspark import SparkContext\n",
    "from pyspark.sql import SparkSession\n",
    "\n",
    "from pyspark.sql.types import StructType, StructField, IntegerType,StringType,FloatType\n",
    "from pyspark.sql.types import Row\n",
    "\n",
    "from pyspark.sql import SQLContext"
   ]
  },
  {
   "cell_type": "code",
   "execution_count": null,
   "id": "168f1188",
   "metadata": {},
   "outputs": [],
   "source": [
    "#spark = SparkContext(master=\"local\",appName=\"Dataframes\")\n",
    "#sqlContext = SQLContext(spark)\n",
    "spark = SparkSession.builder\\\n",
    "                    .master(\"local\") \\\n",
    "                    .appName(\"Dataframes\") \\\n",
    "                    .getOrCreate()"
   ]
  },
  {
   "cell_type": "code",
   "execution_count": null,
   "id": "9897e017",
   "metadata": {},
   "outputs": [],
   "source": [
    "! head -n 5 curso-apache-spark-platzi/files/juegos.csv"
   ]
  },
  {
   "cell_type": "code",
   "execution_count": null,
   "id": "a48560b0",
   "metadata": {},
   "outputs": [],
   "source": [
    "path = \"/home/gerardo/proyectos_PLATZI/Curso_Spark/curso-apache-spark-platzi/files/\""
   ]
  },
  {
   "cell_type": "code",
   "execution_count": null,
   "id": "4272e0f3",
   "metadata": {},
   "outputs": [],
   "source": [
    "juego_schema = StructType([\n",
    "    StructField(\"juego_id\",IntegerType(),False),\n",
    "    StructField(\"nombre_juego\",StringType(),False),\n",
    "    StructField(\"annio\",IntegerType(),False),\n",
    "    StructField(\"temporada\",StringType(),False),\n",
    "    StructField(\"ciudad\",StringType(),False)\n",
    "])\n",
    "\n",
    "juego_df = spark.read.schema(juego_schema) \\\n",
    "        .option(\"header\",\"true\") \\\n",
    "        .csv(path + \"juegos.csv\")"
   ]
  },
  {
   "cell_type": "code",
   "execution_count": null,
   "id": "bf0986cb",
   "metadata": {},
   "outputs": [],
   "source": [
    "juego_df.show(10)"
   ]
  },
  {
   "cell_type": "code",
   "execution_count": null,
   "id": "394f7a01",
   "metadata": {},
   "outputs": [],
   "source": [
    "#spark.stop()"
   ]
  },
  {
   "cell_type": "markdown",
   "id": "040592f0",
   "metadata": {},
   "source": [
    "### Inferencia de tipos de datos"
   ]
  },
  {
   "cell_type": "code",
   "execution_count": null,
   "id": "e757d281",
   "metadata": {},
   "outputs": [],
   "source": [
    "!tail -n 5 curso-apache-spark-platzi/files/deportista2.csv"
   ]
  },
  {
   "cell_type": "code",
   "execution_count": null,
   "id": "334e077d",
   "metadata": {},
   "outputs": [],
   "source": [
    "deportista_schema = StructType([\n",
    "    StructField(\"deportista_id\",IntegerType(),False),\n",
    "    StructField(\"nombre\",StringType(),False),\n",
    "    StructField(\"genero\",IntegerType(),False),\n",
    "    StructField(\"edad\",IntegerType(),False),\n",
    "    StructField(\"altura\",IntegerType(),False),\n",
    "    StructField(\"peso\",FloatType(),False),\n",
    "    StructField(\"equipo_id\",IntegerType(),False)\n",
    "])\n",
    "\n",
    "deportista_df = spark.read \\\n",
    ".csv([path + \"deportista.csv\",path + \"deportista2.csv\"],schema=deportista_schema)"
   ]
  },
  {
   "cell_type": "code",
   "execution_count": null,
   "id": "deb87b6f",
   "metadata": {},
   "outputs": [],
   "source": [
    "deportista_df.show()"
   ]
  },
  {
   "cell_type": "code",
   "execution_count": null,
   "id": "46f8b525",
   "metadata": {},
   "outputs": [],
   "source": [
    "!head -n 5 curso-apache-spark-platzi/files/resultados.csv"
   ]
  },
  {
   "cell_type": "code",
   "execution_count": null,
   "id": "569cf4df",
   "metadata": {},
   "outputs": [],
   "source": [
    "resultados_schema = StructType([\n",
    "    StructField(\"resultado_id\",IntegerType(),False),\n",
    "    StructField(\"medalla\",StringType(),False),\n",
    "    StructField(\"deportista_id\",IntegerType(),False),\n",
    "    StructField(\"juego_id\",IntegerType(),False),\n",
    "    StructField(\"evento_id\",IntegerType(),False),\n",
    "])\n",
    "resultados_df = spark.read.schema(resultados_schema) \\\n",
    "                .option(\"header\",\"true\") \\\n",
    "                .csv(path + \"resultados.csv\")"
   ]
  },
  {
   "cell_type": "code",
   "execution_count": null,
   "id": "c38297fa",
   "metadata": {},
   "outputs": [],
   "source": [
    "resultados_df.show(5)"
   ]
  },
  {
   "cell_type": "code",
   "execution_count": null,
   "id": "14704c3e",
   "metadata": {},
   "outputs": [],
   "source": [
    "paises_schema = StructType([\n",
    "    StructField(\"id\",IntegerType(),False),\n",
    "    StructField(\"equipo\",StringType(),False),\n",
    "    StructField(\"sigla\",StringType(),False)\n",
    "])\n",
    "paises_df = spark.read.schema(paises_schema) \\\n",
    "                .option(\"header\",\"true\") \\\n",
    "                .csv(path + \"paises.csv\")"
   ]
  },
  {
   "cell_type": "code",
   "execution_count": null,
   "id": "8055c304",
   "metadata": {},
   "outputs": [],
   "source": [
    "paises_df.show(5)"
   ]
  },
  {
   "cell_type": "code",
   "execution_count": null,
   "id": "b2114c1e",
   "metadata": {},
   "outputs": [],
   "source": [
    "#spark.stop()"
   ]
  },
  {
   "cell_type": "code",
   "execution_count": null,
   "id": "3ba6825a",
   "metadata": {},
   "outputs": [],
   "source": [
    "deportes_schema =  StructType([\n",
    "    StructField(\"deporte_id\",IntegerType(),False),\n",
    "    StructField(\"deporte\",StringType(),False)\n",
    "])\n",
    "\n",
    "deportes_df = spark.read.schema(deportes_schema) \\\n",
    "                .csv(path + \"deporte.csv\",header = True)"
   ]
  },
  {
   "cell_type": "code",
   "execution_count": null,
   "id": "8c542950",
   "metadata": {},
   "outputs": [],
   "source": [
    "deportes_df.show(5)"
   ]
  },
  {
   "cell_type": "code",
   "execution_count": null,
   "id": "639a061a",
   "metadata": {},
   "outputs": [],
   "source": [
    "deportes_df.printSchema()"
   ]
  },
  {
   "cell_type": "code",
   "execution_count": null,
   "id": "f9a3c82f",
   "metadata": {},
   "outputs": [],
   "source": [
    "evento_schema =  StructType([\n",
    "    StructField(\"evento_id\",IntegerType(),False),\n",
    "    StructField(\"evento\",StringType(),False),\n",
    "    StructField(\"deporte_id\",IntegerType(),False)\n",
    "])\n",
    "\n",
    "evento_df = spark.read.schema(evento_schema) \\\n",
    "                .csv(path + \"evento.csv\",header = True)"
   ]
  },
  {
   "cell_type": "code",
   "execution_count": null,
   "id": "94b50925",
   "metadata": {},
   "outputs": [],
   "source": [
    "from pyspark.sql.functions import trim\n",
    "deportes_df = deportes_df.join(evento_df, trim(deportes_df.deporte_id) == trim(evento_df.deporte_id),\"left\") \\\n",
    "               .select(deportes_df.deporte_id,\"deporte\",\"evento_id\")\n",
    "deportes_df.show(5)"
   ]
  },
  {
   "cell_type": "code",
   "execution_count": null,
   "id": "292a2abf",
   "metadata": {},
   "outputs": [],
   "source": [
    "#cambiar nombre de cplumna\n",
    "deportista_df = deportista_df.withColumnRenamed(\"genero\",\"sexo\").drop(\"altura\")"
   ]
  },
  {
   "cell_type": "code",
   "execution_count": null,
   "id": "3e007801",
   "metadata": {},
   "outputs": [],
   "source": [
    "deportista_df.printSchema()"
   ]
  },
  {
   "cell_type": "code",
   "execution_count": null,
   "id": "508b0b3e",
   "metadata": {},
   "outputs": [],
   "source": [
    "import pyspark.sql.functions as f\n",
    "deportista_df = deportista_df.select(\"deportista_id\",\"nombre\",\n",
    "                     f.col(\"edad\").alias(\"edadALJugar\"),\n",
    "                     \"equipo_id\"\n",
    "                    )"
   ]
  },
  {
   "cell_type": "code",
   "execution_count": null,
   "id": "27ad6bb7",
   "metadata": {},
   "outputs": [],
   "source": [
    "deportista_df.show(5)"
   ]
  },
  {
   "cell_type": "code",
   "execution_count": null,
   "id": "858af4d0",
   "metadata": {},
   "outputs": [],
   "source": [
    "deportista_df = deportista_df.filter(deportista_df.edadALJugar != 0)\n",
    "deportista_df.sort(\"edadALJugar\").show(5)"
   ]
  },
  {
   "cell_type": "code",
   "execution_count": null,
   "id": "7e54105e",
   "metadata": {},
   "outputs": [],
   "source": [
    "deportista_df.join(resultados_df,deportista_df.deportista_id == resultados_df.deportista_id,\"left\") \\\n",
    "    .join(juego_df,juego_df.juego_id == resultados_df.juego_id,\"left\")\\\n",
    "    .join(deportes_df,deportes_df.evento_id == resultados_df.evento_id,\"left\") \\\n",
    "    .select(deportista_df.nombre,f.col(\"edadALJugar\"),\"medalla\",f.col(\"annio\").alias(\"Año de juego\"),\n",
    "           deportes_df.deporte.alias(\"Nombre de disciplina\")\n",
    "           ).show()"
   ]
  },
  {
   "cell_type": "code",
   "execution_count": null,
   "id": "9107196f",
   "metadata": {},
   "outputs": [],
   "source": [
    "deportista_df.join(paises_df,deportista_df.equipo_id == paises_df.id,\"left\") \\\n",
    "            .join(resultados_df,deportista_df.deportista_id == resultados_df.deportista_id, \"left\") \\\n",
    "            .filter(resultados_df.medalla != \"NA\") \\\n",
    "            .select(\"medalla\",\"sigla\",\"equipo\") \\\n",
    "            .show(20)"
   ]
  },
  {
   "cell_type": "code",
   "execution_count": null,
   "id": "e655e901",
   "metadata": {},
   "outputs": [],
   "source": [
    "#spark.stop()"
   ]
  },
  {
   "cell_type": "code",
   "execution_count": null,
   "id": "df51ccf7",
   "metadata": {},
   "outputs": [],
   "source": [
    "medallista_x_anio = deportista_df \\\n",
    "        .join(resultados_df,deportista_df.deportista_id == resultados_df.deportista_id,\"left\") \\\n",
    "        .join(juego_df,juego_df.juego_id == resultados_df.juego_id,\"left\") \\\n",
    "        .join(paises_df,deportista_df.equipo_id ==  paises_df.id,\"left\") \\\n",
    "        .join(evento_df,evento_df.evento_id == resultados_df.evento_id,\"left\") \\\n",
    "        .join(deportes_df,deportes_df.deporte_id == evento_df.deporte_id,\"left\") \\\n",
    "        .select(\"sigla\",\n",
    "               \"annio\",\n",
    "               \"medalla\",\n",
    "               evento_df.evento.alias(\"Nombre subdisciplina\"),\n",
    "               deportes_df.deporte.alias(\"Nombre disciplina\"),\n",
    "               deportista_df.nombre)"
   ]
  },
  {
   "cell_type": "code",
   "execution_count": null,
   "id": "1c0ce9dd",
   "metadata": {},
   "outputs": [],
   "source": [
    "medallista_x_anio_2 = medallista_x_anio.filter(medallista_x_anio.medalla != \"NA\") \\\n",
    "    .sort(\"annio\") \\\n",
    "    .groupBy(\"sigla\",\"annio\",\"Nombre subdisciplina\") \\\n",
    "    .count()"
   ]
  },
  {
   "cell_type": "code",
   "execution_count": null,
   "id": "ffd544ac",
   "metadata": {},
   "outputs": [],
   "source": [
    "medallista_x_anio_2.show()"
   ]
  },
  {
   "cell_type": "code",
   "execution_count": null,
   "id": "a0678b04",
   "metadata": {},
   "outputs": [],
   "source": [
    "from pyspark.sql.functions import sum,avg\n",
    "medallista_x_anio_2.groupBy(\"sigla\",\"annio\") \\\n",
    "        .agg(sum(\"count\").alias(\"Total de medallas\"), \\\n",
    "        avg(\"count\").alias(\"Medallas promedio\")).show()"
   ]
  },
  {
   "cell_type": "markdown",
   "id": "329f5160",
   "metadata": {},
   "source": [
    "## SQL"
   ]
  },
  {
   "cell_type": "code",
   "execution_count": null,
   "id": "90db7f8d",
   "metadata": {},
   "outputs": [],
   "source": [
    "#createOrReplaceTempView() reemplaza registerTempTable() en la versión 2 de pyspark \n",
    "resultados_df.createOrReplaceTempView(\"resultado\")\n",
    "deportista_df.createOrReplaceTempView(\"deportista\")\n",
    "paises_df.createOrReplaceTempView(\"paises\")"
   ]
  },
  {
   "cell_type": "code",
   "execution_count": null,
   "id": "b191b84f",
   "metadata": {},
   "outputs": [],
   "source": []
  },
  {
   "cell_type": "code",
   "execution_count": null,
   "id": "a971aac8",
   "metadata": {},
   "outputs": [],
   "source": [
    "spark.sql('''\n",
    "            SELECT medalla, equipo, sigla\n",
    "                    FROM resultado r\n",
    "                    JOIN deportista d\n",
    "                      ON r.deportista_id = d.deportista_id\n",
    "                    JOIN paises p\n",
    "                      ON p.id = d.equipo_id\n",
    "                   WHERE medalla <> \"NA\"\n",
    "                   ORDER BY sigla DESC\n",
    "          ''').show()"
   ]
  },
  {
   "cell_type": "code",
   "execution_count": 1,
   "id": "7c61acb5",
   "metadata": {},
   "outputs": [
    {
     "ename": "NameError",
     "evalue": "name 'spark' is not defined",
     "output_type": "error",
     "traceback": [
      "\u001b[0;31m---------------------------------------------------------------------------\u001b[0m",
      "\u001b[0;31mNameError\u001b[0m                                 Traceback (most recent call last)",
      "Input \u001b[0;32mIn [1]\u001b[0m, in \u001b[0;36m<cell line: 1>\u001b[0;34m()\u001b[0m\n\u001b[0;32m----> 1\u001b[0m \u001b[43mspark\u001b[49m\u001b[38;5;241m.\u001b[39mstop()\n",
      "\u001b[0;31mNameError\u001b[0m: name 'spark' is not defined"
     ]
    }
   ],
   "source": [
    "#spark.stop()"
   ]
  },
  {
   "cell_type": "code",
   "execution_count": null,
   "id": "4c38a1c4",
   "metadata": {},
   "outputs": [],
   "source": []
  }
 ],
 "metadata": {
  "kernelspec": {
   "display_name": "Python 3 (ipykernel)",
   "language": "python",
   "name": "python3"
  },
  "language_info": {
   "codemirror_mode": {
    "name": "ipython",
    "version": 3
   },
   "file_extension": ".py",
   "mimetype": "text/x-python",
   "name": "python",
   "nbconvert_exporter": "python",
   "pygments_lexer": "ipython3",
   "version": "3.9.12"
  }
 },
 "nbformat": 4,
 "nbformat_minor": 5
}
