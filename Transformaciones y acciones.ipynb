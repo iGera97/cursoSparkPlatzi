{
 "cells": [
  {
   "cell_type": "code",
   "execution_count": null,
   "id": "d07ef6b5",
   "metadata": {},
   "outputs": [],
   "source": [
    "from pyspark import SparkContext"
   ]
  },
  {
   "cell_type": "code",
   "execution_count": null,
   "id": "6022738d",
   "metadata": {},
   "outputs": [],
   "source": [
    "sc = SparkContext(master=\"local\",appName=\"transformacionesYAcciones\")"
   ]
  },
  {
   "cell_type": "code",
   "execution_count": null,
   "id": "1affba4f",
   "metadata": {},
   "outputs": [],
   "source": [
    "rddl = sc.parallelize([1,2,3])\n",
    "type(rddl)"
   ]
  },
  {
   "cell_type": "code",
   "execution_count": null,
   "id": "77cda08c",
   "metadata": {},
   "outputs": [],
   "source": [
    "rddl.collect()"
   ]
  },
  {
   "cell_type": "code",
   "execution_count": null,
   "id": "373ed6c1",
   "metadata": {},
   "outputs": [],
   "source": [
    "!ls curso-apache-spark-platzi/"
   ]
  },
  {
   "cell_type": "code",
   "execution_count": null,
   "id": "aa45842f",
   "metadata": {},
   "outputs": [],
   "source": [
    "path = \"curso-apache-spark-platzi/files/\"\n",
    "\n",
    "equiposOlimpicosRDD = sc.textFile(path + \"paises.csv\") \\\n",
    "                        .map(lambda line : line.split(\",\"))"
   ]
  },
  {
   "cell_type": "code",
   "execution_count": null,
   "id": "697c775b",
   "metadata": {},
   "outputs": [],
   "source": [
    "equiposOlimpicosRDD.take(15)"
   ]
  },
  {
   "cell_type": "code",
   "execution_count": null,
   "id": "bae9123b",
   "metadata": {},
   "outputs": [],
   "source": [
    "#sc.stop()"
   ]
  },
  {
   "cell_type": "markdown",
   "id": "a08bdc23",
   "metadata": {},
   "source": [
    "### ACCIONES DE MODIFICACIÓN SOBRE RDDs"
   ]
  },
  {
   "cell_type": "code",
   "execution_count": null,
   "id": "bf043fea",
   "metadata": {},
   "outputs": [],
   "source": [
    "equiposOlimpicosRDD.map(lambda x : x[2]).distinct().count()"
   ]
  },
  {
   "cell_type": "code",
   "execution_count": null,
   "id": "7b61edfa",
   "metadata": {},
   "outputs": [],
   "source": [
    "equiposOlimpicosRDD.map(lambda x : (x[2],x[1])).groupByKey().mapValues(len).take(5)"
   ]
  },
  {
   "cell_type": "code",
   "execution_count": null,
   "id": "4f38616c",
   "metadata": {},
   "outputs": [],
   "source": [
    "equiposArgentinos = equiposOlimpicosRDD.filter(lambda x : \"ARG\" in x[2])\n",
    "equiposArgentinos.take(5)"
   ]
  },
  {
   "cell_type": "code",
   "execution_count": null,
   "id": "8a89d61c",
   "metadata": {},
   "outputs": [],
   "source": [
    "equiposOlimpicosRDD.count() # ESTE CUENTA TODOS LOS ARCHIVOS, POR LO QUE PUEDE LLEGAR A TARDAR"
   ]
  },
  {
   "cell_type": "code",
   "execution_count": null,
   "id": "338264b4",
   "metadata": {},
   "outputs": [],
   "source": [
    "equiposOlimpicosRDD.countApprox(1)  # SOLAMENTE CUENTA X MILISEGUNDOS"
   ]
  },
  {
   "cell_type": "code",
   "execution_count": null,
   "id": "8545f8b2",
   "metadata": {},
   "outputs": [],
   "source": [
    "#sc.stop()"
   ]
  },
  {
   "cell_type": "code",
   "execution_count": null,
   "id": "f097711c",
   "metadata": {},
   "outputs": [],
   "source": [
    "!ls curso-apache-spark-platzi/"
   ]
  },
  {
   "cell_type": "code",
   "execution_count": null,
   "id": "c0dda888",
   "metadata": {},
   "outputs": [],
   "source": [
    "deportistaOlimpicoRDD = sc.textFile(path + \"deportista.csv\") \\\n",
    "                        .map(lambda l : l.split(\",\"))\n",
    "deportistaOlimpicoRDD2 = sc.textFile(path + \"deportista2.csv\") \\\n",
    "                        .map(lambda l : l.split(\",\"))\n",
    "deportistaOlimpicoRDD = deportistaOlimpicoRDD.union(deportistaOlimpicoRDD2)"
   ]
  },
  {
   "cell_type": "code",
   "execution_count": null,
   "id": "cc0063fa",
   "metadata": {},
   "outputs": [],
   "source": [
    "equiposOlimpicosRDD.top(2)"
   ]
  },
  {
   "cell_type": "code",
   "execution_count": null,
   "id": "eb0ebfbc",
   "metadata": {},
   "outputs": [],
   "source": [
    "deportistaOlimpicoRDD.top(5)"
   ]
  },
  {
   "cell_type": "code",
   "execution_count": null,
   "id": "7ec43a57",
   "metadata": {},
   "outputs": [],
   "source": [
    "deportistaOlimpicoRDD.map(lambda l : [l[-1],l[:-1]]) \\\n",
    "        .join(equiposOlimpicosRDD.map(lambda l : [l[0],l[2]])) \\\n",
    "        .takeSample(False,6,25)"
   ]
  },
  {
   "cell_type": "code",
   "execution_count": null,
   "id": "041e2767",
   "metadata": {},
   "outputs": [],
   "source": [
    "resultado = sc.textFile(path + \"resultados.csv\") \\\n",
    "            .map(lambda l : l.split(\",\"))\n",
    "resultado.take(5)"
   ]
  },
  {
   "cell_type": "code",
   "execution_count": null,
   "id": "7b090f25",
   "metadata": {},
   "outputs": [],
   "source": [
    "resultadoGanador = resultado.filter(lambda l : 'NA' not in l[1])"
   ]
  },
  {
   "cell_type": "code",
   "execution_count": null,
   "id": "64dbe050",
   "metadata": {},
   "outputs": [],
   "source": [
    "resultadoGanador.top(5)"
   ]
  },
  {
   "cell_type": "code",
   "execution_count": null,
   "id": "ba6f1800",
   "metadata": {
    "scrolled": true
   },
   "outputs": [],
   "source": [
    "paises_medallas = deportistaOlimpicoRDD.map(lambda l : [l[-1],l[:-1]]) \\\n",
    "        .join(equiposOlimpicosRDD.map(lambda l : [l[0],l[2]])) \\\n",
    "        .map(lambda l : [l[1][0][0],[l[0],[l[1][0][1:],l[1][1]]]]) \\\n",
    "        .join(resultadoGanador.map(lambda l : [l[2],l[:2]])) \\\n",
    "        #.takeSample(False,6,25)"
   ]
  },
  {
   "cell_type": "code",
   "execution_count": null,
   "id": "18d4424b",
   "metadata": {},
   "outputs": [],
   "source": [
    "#sc.stop()"
   ]
  },
  {
   "cell_type": "code",
   "execution_count": null,
   "id": "ea3f5fb2",
   "metadata": {},
   "outputs": [],
   "source": [
    "valores_medallas = {\"Gold\": 7,\n",
    "                   \"Silver\" : 5,\n",
    "                   \"Bronze\" : 4}"
   ]
  },
  {
   "cell_type": "code",
   "execution_count": null,
   "id": "8b77b134",
   "metadata": {},
   "outputs": [],
   "source": [
    "paises_medallas.take(5)"
   ]
  },
  {
   "cell_type": "code",
   "execution_count": null,
   "id": "da50bd56",
   "metadata": {},
   "outputs": [],
   "source": [
    "paises_medallas = paises_medallas.map(lambda l : [l[1][0][-1][-1],valores_medallas[l[1][1][1]]])"
   ]
  },
  {
   "cell_type": "code",
   "execution_count": null,
   "id": "4edca7eb",
   "metadata": {},
   "outputs": [],
   "source": [
    "from operator import add\n",
    "paises_medallas.reduceByKey((add)) \\\n",
    ".sortBy(lambda x : x[1],ascending = False).take(10)"
   ]
  },
  {
   "cell_type": "code",
   "execution_count": null,
   "id": "36b34239",
   "metadata": {},
   "outputs": [],
   "source": [
    "#sc.stop()"
   ]
  }
 ],
 "metadata": {
  "kernelspec": {
   "display_name": "Python 3 (ipykernel)",
   "language": "python",
   "name": "python3"
  },
  "language_info": {
   "codemirror_mode": {
    "name": "ipython",
    "version": 3
   },
   "file_extension": ".py",
   "mimetype": "text/x-python",
   "name": "python",
   "nbconvert_exporter": "python",
   "pygments_lexer": "ipython3",
   "version": "3.9.12"
  }
 },
 "nbformat": 4,
 "nbformat_minor": 5
}
